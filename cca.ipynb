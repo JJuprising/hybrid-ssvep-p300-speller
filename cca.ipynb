{
 "cells": [
  {
   "cell_type": "code",
   "execution_count": null,
   "metadata": {},
   "outputs": [],
   "source": []
  }
 ],
 "metadata": {
  "kernelspec": {
   "display_name": "hybridspeller",
   "language": "python",
   "name": "python3"
  },
  "language_info": {
   "name": "python",
   "version": "3.8.3 (tags/v3.8.3:6f8c832, May 13 2020, 22:37:02) [MSC v.1924 64 bit (AMD64)]"
  },
  "orig_nbformat": 4,
  "vscode": {
   "interpreter": {
    "hash": "a29298365c927d10f6a8fb8dccd56dd4f3ea8996733bb45c8ce49fc9b151e300"
   }
  }
 },
 "nbformat": 4,
 "nbformat_minor": 2
}
