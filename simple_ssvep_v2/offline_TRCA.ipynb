{
 "cells": [
  {
   "cell_type": "code",
   "execution_count": 11,
   "metadata": {},
   "outputs": [],
   "source": [
    "import mne\n",
    "import os\n",
    "\n",
    "def concat_dataset(subjects, num_blocks):\n",
    "    raws = []\n",
    "    # base_path = \"E:\\Thesis\\HybridSpeller\\\\record\"\n",
    "    base_path = r\"C:\\Users\\bci\\Documents\\projects\\hybrid-ssvep-p300-speller\\simple_ssvep_v2\\record\"\n",
    "\n",
    "    for subject in subjects:\n",
    "        for i in range(1,num_blocks):\n",
    "            print(subject)\n",
    "            path = os.path.join(base_path, subject, f\"{subject}{i}.fif\")\n",
    "            print(\"Here is the path\")\n",
    "            print(path)\n",
    "            raws.append(mne.io.read_raw_fif(path, preload = True))\n",
    "    raw = mne.concatenate_raws(raws)\n",
    "    montage = mne.channels.make_standard_montage('standard_1020')\n",
    "    raw.set_montage(montage)\n",
    "    print(raw.info['ch_names'])\n",
    "    print(raw.info['sfreq'])\n",
    "    return raw"
   ]
  },
  {
   "cell_type": "code",
   "execution_count": 13,
   "metadata": {},
   "outputs": [
    {
     "name": "stdout",
     "output_type": "stream",
     "text": [
      "sunsun_9_flicker\n",
      "Here is the path\n",
      "C:\\Users\\bci\\Documents\\projects\\hybrid-ssvep-p300-speller\\simple_ssvep_v2\\record\\sunsun_9_flicker\\sunsun_9_flicker1.fif\n",
      "Opening raw data file C:\\Users\\bci\\Documents\\projects\\hybrid-ssvep-p300-speller\\simple_ssvep_v2\\record\\sunsun_9_flicker\\sunsun_9_flicker1.fif...\n",
      "    Range : 0 ... 11570 =      0.000 ...    46.280 secs\n",
      "Ready.\n",
      "Reading 0 ... 11570  =      0.000 ...    46.280 secs...\n",
      "sunsun_9_flicker\n",
      "Here is the path\n",
      "C:\\Users\\bci\\Documents\\projects\\hybrid-ssvep-p300-speller\\simple_ssvep_v2\\record\\sunsun_9_flicker\\sunsun_9_flicker2.fif\n",
      "Opening raw data file C:\\Users\\bci\\Documents\\projects\\hybrid-ssvep-p300-speller\\simple_ssvep_v2\\record\\sunsun_9_flicker\\sunsun_9_flicker2.fif...\n",
      "    Range : 0 ... 11571 =      0.000 ...    46.284 secs\n",
      "Ready.\n",
      "Reading 0 ... 11571  =      0.000 ...    46.284 secs...\n",
      "sunsun_9_flicker\n",
      "Here is the path\n",
      "C:\\Users\\bci\\Documents\\projects\\hybrid-ssvep-p300-speller\\simple_ssvep_v2\\record\\sunsun_9_flicker\\sunsun_9_flicker3.fif\n",
      "Opening raw data file C:\\Users\\bci\\Documents\\projects\\hybrid-ssvep-p300-speller\\simple_ssvep_v2\\record\\sunsun_9_flicker\\sunsun_9_flicker3.fif...\n",
      "    Range : 0 ... 11547 =      0.000 ...    46.188 secs\n",
      "Ready.\n",
      "Reading 0 ... 11547  =      0.000 ...    46.188 secs...\n",
      "sunsun_9_flicker\n",
      "Here is the path\n",
      "C:\\Users\\bci\\Documents\\projects\\hybrid-ssvep-p300-speller\\simple_ssvep_v2\\record\\sunsun_9_flicker\\sunsun_9_flicker4.fif\n",
      "Opening raw data file C:\\Users\\bci\\Documents\\projects\\hybrid-ssvep-p300-speller\\simple_ssvep_v2\\record\\sunsun_9_flicker\\sunsun_9_flicker4.fif...\n",
      "    Range : 0 ... 11564 =      0.000 ...    46.256 secs\n",
      "Ready.\n",
      "Reading 0 ... 11564  =      0.000 ...    46.256 secs...\n",
      "['Fz', 'C3', 'Cz', 'C4', 'Pz', 'PO7', 'Oz', 'PO8', 'STIM MARKERS']\n",
      "250.0\n",
      "Effective window size : 1.024 (s)\n"
     ]
    },
    {
     "name": "stderr",
     "output_type": "stream",
     "text": [
      "C:\\Users\\bci\\AppData\\Local\\Temp\\ipykernel_9572\\2116854227.py:15: RuntimeWarning: This filename (C:\\Users\\bci\\Documents\\projects\\hybrid-ssvep-p300-speller\\simple_ssvep_v2\\record\\sunsun_9_flicker\\sunsun_9_flicker1.fif) does not conform to MNE naming conventions. All raw files should end with raw.fif, raw_sss.fif, raw_tsss.fif, _meg.fif, _eeg.fif, _ieeg.fif, raw.fif.gz, raw_sss.fif.gz, raw_tsss.fif.gz, _meg.fif.gz, _eeg.fif.gz or _ieeg.fif.gz\n",
      "  raws.append(mne.io.read_raw_fif(path, preload = True))\n",
      "C:\\Users\\bci\\AppData\\Local\\Temp\\ipykernel_9572\\2116854227.py:15: RuntimeWarning: This filename (C:\\Users\\bci\\Documents\\projects\\hybrid-ssvep-p300-speller\\simple_ssvep_v2\\record\\sunsun_9_flicker\\sunsun_9_flicker2.fif) does not conform to MNE naming conventions. All raw files should end with raw.fif, raw_sss.fif, raw_tsss.fif, _meg.fif, _eeg.fif, _ieeg.fif, raw.fif.gz, raw_sss.fif.gz, raw_tsss.fif.gz, _meg.fif.gz, _eeg.fif.gz or _ieeg.fif.gz\n",
      "  raws.append(mne.io.read_raw_fif(path, preload = True))\n",
      "C:\\Users\\bci\\AppData\\Local\\Temp\\ipykernel_9572\\2116854227.py:15: RuntimeWarning: This filename (C:\\Users\\bci\\Documents\\projects\\hybrid-ssvep-p300-speller\\simple_ssvep_v2\\record\\sunsun_9_flicker\\sunsun_9_flicker3.fif) does not conform to MNE naming conventions. All raw files should end with raw.fif, raw_sss.fif, raw_tsss.fif, _meg.fif, _eeg.fif, _ieeg.fif, raw.fif.gz, raw_sss.fif.gz, raw_tsss.fif.gz, _meg.fif.gz, _eeg.fif.gz or _ieeg.fif.gz\n",
      "  raws.append(mne.io.read_raw_fif(path, preload = True))\n",
      "C:\\Users\\bci\\AppData\\Local\\Temp\\ipykernel_9572\\2116854227.py:15: RuntimeWarning: This filename (C:\\Users\\bci\\Documents\\projects\\hybrid-ssvep-p300-speller\\simple_ssvep_v2\\record\\sunsun_9_flicker\\sunsun_9_flicker4.fif) does not conform to MNE naming conventions. All raw files should end with raw.fif, raw_sss.fif, raw_tsss.fif, _meg.fif, _eeg.fif, _ieeg.fif, raw.fif.gz, raw_sss.fif.gz, raw_tsss.fif.gz, _meg.fif.gz, _eeg.fif.gz or _ieeg.fif.gz\n",
      "  raws.append(mne.io.read_raw_fif(path, preload = True))\n",
      "c:\\Users\\bci\\.virtualenvs\\hybrid-ssvep-p300-speller-ZL_XZSnA\\lib\\site-packages\\mne\\viz\\utils.py:137: UserWarning: Matplotlib is currently using module://matplotlib_inline.backend_inline, which is a non-GUI backend, so cannot show the figure.\n",
      "  (fig or plt).show(**kwargs)\n"
     ]
    }
   ],
   "source": [
    "from scipy.signal import hilbert\n",
    "\n",
    "subjects = ['sunsun_9_flicker']\n",
    "raw = concat_dataset(subjects, 5)\n",
    "raw.compute_psd().plot()"
   ]
  }
 ],
 "metadata": {
  "kernelspec": {
   "display_name": "hybrid-ssvep-p300-speller-ZL_XZSnA",
   "language": "python",
   "name": "python3"
  },
  "language_info": {
   "codemirror_mode": {
    "name": "ipython",
    "version": 3
   },
   "file_extension": ".py",
   "mimetype": "text/x-python",
   "name": "python",
   "nbconvert_exporter": "python",
   "pygments_lexer": "ipython3",
   "version": "3.8.10"
  },
  "orig_nbformat": 4
 },
 "nbformat": 4,
 "nbformat_minor": 2
}
