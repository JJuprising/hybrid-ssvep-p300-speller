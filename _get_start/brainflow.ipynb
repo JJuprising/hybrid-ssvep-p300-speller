{
 "cells": [
  {
   "cell_type": "markdown",
   "metadata": {},
   "source": [
    "# Get Start with BrainFlow"
   ]
  },
  {
   "cell_type": "code",
   "execution_count": 1,
   "metadata": {},
   "outputs": [],
   "source": [
    "from brainflow.board_shim import BoardShim, BrainFlowInputParams, BoardIds\n",
    "import time"
   ]
  },
  {
   "cell_type": "markdown",
   "metadata": {},
   "source": [
    "First, initialize the board."
   ]
  },
  {
   "cell_type": "code",
   "execution_count": 2,
   "metadata": {},
   "outputs": [],
   "source": [
    "# params is the parameter to configuring the board.\n",
    "# What you can do with it depends on the board you are using.\n",
    "# https://brainflow.readthedocs.io/en/stable/SupportedBoards.html\n",
    "# If you don't care, just leave it like that. It works.\n",
    "params = BrainFlowInputParams()\n",
    "\n",
    "# board is the object that will connect to the board.\n",
    "# Since our project use UNICORN, we set the board like so.\n",
    "board = BoardShim(BoardIds.UNICORN_BOARD, params)"
   ]
  },
  {
   "cell_type": "code",
   "execution_count": 3,
   "metadata": {},
   "outputs": [
    {
     "ename": "BrainFlowError",
     "evalue": "BOARD_NOT_READY_ERROR:7 unable to prepare streaming session",
     "output_type": "error",
     "traceback": [
      "\u001b[1;31m---------------------------------------------------------------------------\u001b[0m",
      "\u001b[1;31mBrainFlowError\u001b[0m                            Traceback (most recent call last)",
      "\u001b[1;32md:\\MyProjects\\hybrid-ssvep-p300-speller\\code_cample\\get_start.ipynb Cell 5\u001b[0m line \u001b[0;36m2\n\u001b[0;32m      <a href='vscode-notebook-cell:/d%3A/MyProjects/hybrid-ssvep-p300-speller/code_cample/get_start.ipynb#X10sZmlsZQ%3D%3D?line=0'>1</a>\u001b[0m \u001b[39m# Here since I do not have UNICORN connected to my Laptop, when I prepare the session, it was not happy. \u001b[39;00m\n\u001b[1;32m----> <a href='vscode-notebook-cell:/d%3A/MyProjects/hybrid-ssvep-p300-speller/code_cample/get_start.ipynb#X10sZmlsZQ%3D%3D?line=1'>2</a>\u001b[0m board\u001b[39m.\u001b[39;49mprepare_session()\n",
      "File \u001b[1;32mc:\\Users\\akraradets\\.virtualenvs\\hybrid-ssvep-p300-speller-hzW6Fgkb\\lib\\site-packages\\brainflow\\board_shim.py:1179\u001b[0m, in \u001b[0;36mBoardShim.prepare_session\u001b[1;34m(self)\u001b[0m\n\u001b[0;32m   1177\u001b[0m res \u001b[39m=\u001b[39m BoardControllerDLL\u001b[39m.\u001b[39mget_instance()\u001b[39m.\u001b[39mprepare_session(\u001b[39mself\u001b[39m\u001b[39m.\u001b[39mboard_id, \u001b[39mself\u001b[39m\u001b[39m.\u001b[39minput_json)\n\u001b[0;32m   1178\u001b[0m \u001b[39mif\u001b[39;00m res \u001b[39m!=\u001b[39m BrainFlowExitCodes\u001b[39m.\u001b[39mSTATUS_OK\u001b[39m.\u001b[39mvalue:\n\u001b[1;32m-> 1179\u001b[0m     \u001b[39mraise\u001b[39;00m BrainFlowError(\u001b[39m'\u001b[39m\u001b[39munable to prepare streaming session\u001b[39m\u001b[39m'\u001b[39m, res)\n",
      "\u001b[1;31mBrainFlowError\u001b[0m: BOARD_NOT_READY_ERROR:7 unable to prepare streaming session"
     ]
    }
   ],
   "source": [
    "# Here since I do not have UNICORN connected to my Laptop, when I prepare the session, it was not happy. \n",
    "board.prepare_session()"
   ]
  },
  {
   "cell_type": "code",
   "execution_count": 4,
   "metadata": {},
   "outputs": [],
   "source": [
    "# For the development (or writing this document), I will use a dummy board or synthetic board.\n",
    "board = BoardShim(BoardIds.SYNTHETIC_BOARD, params)"
   ]
  },
  {
   "cell_type": "code",
   "execution_count": 5,
   "metadata": {},
   "outputs": [],
   "source": [
    "# This will arm the record \n",
    "board.prepare_session()\n",
    "# Now we reading data from the board\n",
    "board.start_stream()\n",
    "# read data for 10 seconds\n",
    "time.sleep(10)\n",
    "# data = board.get_current_board_data (256) # get latest 256 packages or less, doesn't remove them from internal buffer\n",
    "data = board.get_board_data()  # get all data and remove it from internal buffer\n",
    "# stop the reading\n",
    "board.stop_stream()\n",
    "# unarm the record\n",
    "board.release_session()"
   ]
  },
  {
   "cell_type": "code",
   "execution_count": 7,
   "metadata": {},
   "outputs": [
    {
     "data": {
      "text/plain": [
       "(32, 2503)"
      ]
     },
     "execution_count": 7,
     "metadata": {},
     "output_type": "execute_result"
    }
   ],
   "source": [
    "# This is the shape of the data\n",
    "data.shape"
   ]
  },
  {
   "cell_type": "code",
   "execution_count": 8,
   "metadata": {},
   "outputs": [
    {
     "data": {
      "text/plain": [
       "{'accel_channels': [17, 18, 19],\n",
       " 'battery_channel': 29,\n",
       " 'ecg_channels': [1, 2, 3, 4, 5, 6, 7, 8, 9, 10, 11, 12, 13, 14, 15, 16],\n",
       " 'eda_channels': [23],\n",
       " 'eeg_channels': [1, 2, 3, 4, 5, 6, 7, 8, 9, 10, 11, 12, 13, 14, 15, 16],\n",
       " 'eeg_names': 'Fz,C3,Cz,C4,Pz,PO7,Oz,PO8,F5,F7,F3,F1,F2,F4,F6,F8',\n",
       " 'emg_channels': [1, 2, 3, 4, 5, 6, 7, 8, 9, 10, 11, 12, 13, 14, 15, 16],\n",
       " 'eog_channels': [1, 2, 3, 4, 5, 6, 7, 8, 9, 10, 11, 12, 13, 14, 15, 16],\n",
       " 'gyro_channels': [20, 21, 22],\n",
       " 'marker_channel': 31,\n",
       " 'name': 'Synthetic',\n",
       " 'num_rows': 32,\n",
       " 'package_num_channel': 0,\n",
       " 'ppg_channels': [24, 25],\n",
       " 'resistance_channels': [27, 28],\n",
       " 'sampling_rate': 250,\n",
       " 'temperature_channels': [26],\n",
       " 'timestamp_channel': 30}"
      ]
     },
     "execution_count": 8,
     "metadata": {},
     "output_type": "execute_result"
    }
   ],
   "source": [
    "# To understand the data, we use \n",
    "board_descr = BoardShim.get_board_descr(BoardIds.SYNTHETIC_BOARD)\n",
    "board_descr"
   ]
  },
  {
   "cell_type": "code",
   "execution_count": 9,
   "metadata": {},
   "outputs": [
    {
     "data": {
      "text/plain": [
       "{'accel_channels': [8, 9, 10],\n",
       " 'battery_channel': 14,\n",
       " 'eeg_channels': [0, 1, 2, 3, 4, 5, 6, 7],\n",
       " 'eeg_names': 'Fz,C3,Cz,C4,Pz,PO7,Oz,PO8',\n",
       " 'gyro_channels': [11, 12, 13],\n",
       " 'marker_channel': 18,\n",
       " 'name': 'Unicorn',\n",
       " 'num_rows': 19,\n",
       " 'other_channels': [16],\n",
       " 'package_num_channel': 15,\n",
       " 'sampling_rate': 250,\n",
       " 'timestamp_channel': 17}"
      ]
     },
     "execution_count": 9,
     "metadata": {},
     "output_type": "execute_result"
    }
   ],
   "source": [
    "# As you can see, the board description is depends on each board\n",
    "# You can find the description of UNICORN like so.\n",
    "board_descr = BoardShim.get_board_descr(BoardIds.UNICORN_BOARD)\n",
    "board_descr"
   ]
  },
  {
   "cell_type": "markdown",
   "metadata": {},
   "source": [
    "# Add marker\n",
    "\n",
    "Marker in BCI means when the epoch is start.\n",
    "You do not need to follow the scheme if you know what you are doing.\n",
    "But here is how to work with marker in normal way."
   ]
  },
  {
   "cell_type": "code",
   "execution_count": 10,
   "metadata": {},
   "outputs": [],
   "source": [
    "params = BrainFlowInputParams()\n",
    "board = BoardShim(BoardIds.SYNTHETIC_BOARD, params)\n",
    "\n",
    "board.prepare_session()\n",
    "board.start_stream()\n",
    "\n",
    "for i in range(10):\n",
    "    time.sleep(1)\n",
    "    board.insert_marker(i + 1)\n",
    "\n",
    "data = board.get_board_data()\n",
    "board.stop_stream()\n",
    "board.release_session()"
   ]
  },
  {
   "cell_type": "code",
   "execution_count": 14,
   "metadata": {},
   "outputs": [
    {
     "data": {
      "text/plain": [
       "array([ 1.,  2.,  3.,  4.,  5.,  6.,  7.,  8.,  9., 10.])"
      ]
     },
     "execution_count": 14,
     "metadata": {},
     "output_type": "execute_result"
    }
   ],
   "source": [
    "board_descr = BoardShim.get_board_descr(BoardIds.SYNTHETIC_BOARD)\n",
    "marker_channel = board_descr['marker_channel']\n",
    "data[marker_channel, data[marker_channel, :] != 0]"
   ]
  },
  {
   "cell_type": "markdown",
   "metadata": {},
   "source": [
    "# Extracting Data\n",
    "\n",
    "As you can see, the `data` object contains all the information provided by the board.\n",
    "You may or may not like it.\n",
    "Luckily, `BrainFlow` provides a method to extract data you want.\n",
    "\n",
    "You can either do it manually with `board_descr` or use the `BoardShim.get_...` interface.\n",
    "\n",
    "To find what are the interface/method, check this document [link](https://brainflow.readthedocs.io/en/stable/UserAPI.html#python-api-reference)"
   ]
  },
  {
   "cell_type": "code",
   "execution_count": 26,
   "metadata": {},
   "outputs": [
    {
     "name": "stdout",
     "output_type": "stream",
     "text": [
      "Device Name: Synthetic\n",
      "EEG Channel: [1, 2, 3, 4, 5, 6, 7, 8, 9, 10, 11, 12, 13, 14, 15, 16]\n",
      "Gyro Channel: [20, 21, 22]\n",
      "Marker Channel: 31\n",
      "Batter Status: 29\n"
     ]
    }
   ],
   "source": [
    "print(\"Device Name:\", BoardShim.get_device_name(BoardIds.SYNTHETIC_BOARD.value))\n",
    "print(\"EEG Channel:\", BoardShim.get_eeg_channels(BoardIds.SYNTHETIC_BOARD.value))\n",
    "print(\"Gyro Channel:\", BoardShim.get_gyro_channels(BoardIds.SYNTHETIC_BOARD.value))\n",
    "print(\"Marker Channel:\", BoardShim.get_marker_channel(BoardIds.SYNTHETIC_BOARD.value))\n",
    "print(\"Batter Status:\", BoardShim.get_battery_channel(BoardIds.SYNTHETIC_BOARD.value))"
   ]
  },
  {
   "cell_type": "markdown",
   "metadata": {},
   "source": [
    "# Convert t"
   ]
  },
  {
   "cell_type": "code",
   "execution_count": 18,
   "metadata": {},
   "outputs": [
    {
     "ename": "TypeError",
     "evalue": "get_eeg_channels() missing 1 required positional argument: 'board_id'",
     "output_type": "error",
     "traceback": [
      "\u001b[1;31m---------------------------------------------------------------------------\u001b[0m",
      "\u001b[1;31mTypeError\u001b[0m                                 Traceback (most recent call last)",
      "\u001b[1;32md:\\MyProjects\\hybrid-ssvep-p300-speller\\code_cample\\get_start.ipynb Cell 15\u001b[0m line \u001b[0;36m1\n\u001b[1;32m----> <a href='vscode-notebook-cell:/d%3A/MyProjects/hybrid-ssvep-p300-speller/code_cample/get_start.ipynb#X25sZmlsZQ%3D%3D?line=0'>1</a>\u001b[0m BoardShim\u001b[39m.\u001b[39;49mget_eeg_channels()\n",
      "\u001b[1;31mTypeError\u001b[0m: get_eeg_channels() missing 1 required positional argument: 'board_id'"
     ]
    }
   ],
   "source": [
    "BoardShim.get"
   ]
  },
  {
   "cell_type": "code",
   "execution_count": 16,
   "metadata": {},
   "outputs": [
    {
     "data": {
      "text/plain": [
       "[1, 2, 3, 4, 5, 6, 7, 8, 9, 10, 11, 12, 13, 14, 15, 16]"
      ]
     },
     "execution_count": 16,
     "metadata": {},
     "output_type": "execute_result"
    }
   ],
   "source": [
    "eeg_channels = BoardShim.get_eeg_channels(BoardIds.SYNTHETIC_BOARD.value)\n"
   ]
  }
 ],
 "metadata": {
  "kernelspec": {
   "display_name": "hybrid-ssvep-p300-speller-hzW6Fgkb",
   "language": "python",
   "name": "python3"
  },
  "language_info": {
   "codemirror_mode": {
    "name": "ipython",
    "version": 3
   },
   "file_extension": ".py",
   "mimetype": "text/x-python",
   "name": "python",
   "nbconvert_exporter": "python",
   "pygments_lexer": "ipython3",
   "version": "3.8.10"
  }
 },
 "nbformat": 4,
 "nbformat_minor": 2
}
