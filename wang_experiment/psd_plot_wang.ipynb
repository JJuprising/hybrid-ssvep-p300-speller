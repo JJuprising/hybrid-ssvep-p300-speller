{
 "cells": [
  {
   "cell_type": "code",
   "execution_count": 3,
   "metadata": {},
   "outputs": [],
   "source": [
    "import matplotlib.pyplot as plt\n",
    "import mne\n",
    "import numpy as np\n",
    "from scipy.stats import ttest_rel\n",
    "# from braindecode.datasets import MOABBDataset\n",
    "\n",
    "from moabb.datasets import Wang2016"
   ]
  },
  {
   "cell_type": "code",
   "execution_count": 4,
   "metadata": {},
   "outputs": [],
   "source": [
    "# dataset = MOABBDataset(dataset_name=\"Nakanishi2015\", subject_ids=[1])"
   ]
  },
  {
   "attachments": {},
   "cell_type": "markdown",
   "metadata": {},
   "source": [
    "<!-- fname = C:\\Users\\Sunsun\\mne_data\\MNE-nakanishi-data\\mnakanishi\\12JFPM_SSVEP\\raw\\master\\data\\s1.mat -->"
   ]
  },
  {
   "cell_type": "code",
   "execution_count": 6,
   "metadata": {},
   "outputs": [
    {
     "name": "stderr",
     "output_type": "stream",
     "text": [
      "Trial data de-meaned and concatenated with a buffer to create continuous data\n"
     ]
    },
    {
     "name": "stdout",
     "output_type": "stream",
     "text": [
      "240 events found\n",
      "Event IDs: [ 1  2  3  4  5  6  7  8  9 10 11 12 13 14 15 16 17 18 19 20 21 22 23 24\n",
      " 25 26 27 28 29 30 31 32 33 34 35 36 37 38 39 40]\n"
     ]
    },
    {
     "name": "stderr",
     "output_type": "stream",
     "text": [
      "Trial data de-meaned and concatenated with a buffer to create continuous data\n"
     ]
    },
    {
     "name": "stdout",
     "output_type": "stream",
     "text": [
      "240 events found\n",
      "Event IDs: [ 1  2  3  4  5  6  7  8  9 10 11 12 13 14 15 16 17 18 19 20 21 22 23 24\n",
      " 25 26 27 28 29 30 31 32 33 34 35 36 37 38 39 40]\n"
     ]
    },
    {
     "name": "stderr",
     "output_type": "stream",
     "text": [
      "Trial data de-meaned and concatenated with a buffer to create continuous data\n"
     ]
    },
    {
     "name": "stdout",
     "output_type": "stream",
     "text": [
      "240 events found\n",
      "Event IDs: [ 1  2  3  4  5  6  7  8  9 10 11 12 13 14 15 16 17 18 19 20 21 22 23 24\n",
      " 25 26 27 28 29 30 31 32 33 34 35 36 37 38 39 40]\n"
     ]
    },
    {
     "name": "stderr",
     "output_type": "stream",
     "text": [
      "Trial data de-meaned and concatenated with a buffer to create continuous data\n"
     ]
    }
   ],
   "source": [
    "dataset = Wang2016()\n",
    "\n",
    "for i in range(1, 36):\n",
    "    subject = [i]\n",
    "    dataset.subject_list = subject\n",
    "    sessions = dataset.get_data(subjects=subject)\n",
    "    session_name = \"session_0\"\n",
    "    run_name = \"run_0\"\n",
    "    raw_list = [sessions[id][session_name][run_name] for id in sessions]\n",
    "\n",
    "    raw = mne.concatenate_raws(raw_list)\n",
    "    raw.info['line_freq'] = 60.\n",
    "\n",
    "    # Set montage\n",
    "    montage = mne.channels.make_standard_montage('standard_1005')\n",
    "    raw.set_montage(montage, verbose=False)\n",
    "\n",
    "    # Set common average reference\n",
    "    raw.set_eeg_reference('average', projection=False, verbose=False)\n",
    "\n",
    "    # Apply bandpass filter\n",
    "    raw.filter(l_freq=0.1, h_freq=None, fir_design='firwin', verbose=False)\n",
    "\n",
    "    # Construct epochs\n",
    "    event_id = {\n",
    "        '8hz': 1,\n",
    "        '15.8hz': 40\n",
    "    }\n",
    "    # events, _ = mne.events_from_annotations(raw, verbose=False)\n",
    "    events = mne.find_events(raw)\n",
    "    tmin, tmax = -1., 5.  # in s\n",
    "    baseline = None\n",
    "    epochs = mne.Epochs(\n",
    "        raw, events=events,\n",
    "        event_id=[event_id['8hz'], event_id['15.8hz']], tmin=tmin,\n",
    "        tmax=tmax, baseline=baseline, verbose=False)\n",
    "    \n",
    "    tmin = 1.\n",
    "    tmax = 5.\n",
    "    fmin = 1.\n",
    "    fmax = 90.\n",
    "    sfreq = epochs.info['sfreq']\n",
    "\n",
    "    spectrum = epochs.compute_psd(\n",
    "        'welch',\n",
    "        n_fft=int(sfreq * (tmax - tmin)),\n",
    "        n_overlap=0, n_per_seg=None,\n",
    "        tmin=tmin, tmax=tmax,\n",
    "        fmin=fmin, fmax=fmax,\n",
    "        window='boxcar',\n",
    "        verbose=False)\n",
    "    psds, freqs = spectrum.get_data(return_freqs=True)\n",
    "    snrs = snr_spectrum(psds, noise_n_neighbor_freqs=3,\n",
    "                    noise_skip_neighbor_freqs=1)\n",
    "    fig, axes = plt.subplots(2, 1, sharex='all', sharey='none', figsize=(8, 5))\n",
    "    freq_range = range(np.where(np.floor(freqs) == 1.)[0][0],\n",
    "                    np.where(np.ceil(freqs) == fmax - 1)[0][0])\n",
    "\n",
    "    psds_plot = 10 * np.log10(psds)\n",
    "    psds_mean = psds_plot.mean(axis=(0, 1))[freq_range]\n",
    "    psds_std = psds_plot.std(axis=(0, 1))[freq_range]\n",
    "    axes[0].plot(freqs[freq_range], psds_mean, color='b')\n",
    "    axes[0].fill_between(\n",
    "        freqs[freq_range], psds_mean - psds_std, psds_mean + psds_std,\n",
    "        color='b', alpha=.2)\n",
    "    axes[0].set(title=\"PSD spectrum\", ylabel='Power Spectral Density [dB]')\n",
    "\n",
    "    # SNR spectrum\n",
    "    snr_mean = snrs.mean(axis=(0, 1))[freq_range]\n",
    "    snr_std = snrs.std(axis=(0, 1))[freq_range]\n",
    "\n",
    "    axes[1].plot(freqs[freq_range], snr_mean, color='r')\n",
    "    axes[1].fill_between(\n",
    "        freqs[freq_range], snr_mean - snr_std, snr_mean + snr_std,\n",
    "        color='r', alpha=.2)\n",
    "    axes[1].set(\n",
    "        title=\"SNR spectrum\", xlabel='Frequency [Hz]',\n",
    "        ylabel='SNR', ylim=[-2, 30], xlim=[fmin, fmax])\n",
    "    fig"
   ]
  },
  {
   "cell_type": "code",
   "execution_count": null,
   "metadata": {},
   "outputs": [],
   "source": [
    "snrs = snr_spectrum(psds, noise_n_neighbor_freqs=3,\n",
    "                    noise_skip_neighbor_freqs=1)"
   ]
  },
  {
   "cell_type": "code",
   "execution_count": null,
   "metadata": {},
   "outputs": [],
   "source": []
  }
 ],
 "metadata": {
  "kernelspec": {
   "display_name": "HybridSpeller-q8UBACmb",
   "language": "python",
   "name": "python3"
  },
  "language_info": {
   "codemirror_mode": {
    "name": "ipython",
    "version": 3
   },
   "file_extension": ".py",
   "mimetype": "text/x-python",
   "name": "python",
   "nbconvert_exporter": "python",
   "pygments_lexer": "ipython3",
   "version": "3.8.3"
  },
  "orig_nbformat": 4
 },
 "nbformat": 4,
 "nbformat_minor": 2
}
