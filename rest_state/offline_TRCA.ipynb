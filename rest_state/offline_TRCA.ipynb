{
 "cells": [
  {
   "cell_type": "code",
   "execution_count": 105,
   "metadata": {},
   "outputs": [],
   "source": [
    "from numpy import ndarray\n",
    "import numpy as np\n",
    "from scipy.sparse import vstack, identity, spmatrix\n",
    "from typing import Optional, cast, Union\n",
    "from scipy.linalg import eigh\n",
    "from scipy.sparse.linalg import eigsh\n",
    "from scipy.stats import pearsonr\n",
    "from sklearn.base import BaseEstimator, ClassifierMixin, TransformerMixin\n",
    "from joblib import Parallel, delayed\n",
    "from functools import partial\n",
    "\n",
    "\n",
    "\n",
    "def _ged_wong(\n",
    "    Z: ndarray,\n",
    "    D: Optional[ndarray] = None,\n",
    "    P: Optional[ndarray] = None,\n",
    "    n_components=1,\n",
    "    method=\"type1\",\n",
    "):\n",
    "    if method != \"type1\" and method != \"type2\":\n",
    "        raise ValueError(\"not supported method type\")\n",
    "\n",
    "    A = Z\n",
    "    if D is not None:\n",
    "        A = D.T @ A\n",
    "    if P is not None:\n",
    "        A = P.T @ A\n",
    "    A = A.T @ A\n",
    "    if method == \"type1\":\n",
    "        B = Z\n",
    "        if D is not None:\n",
    "            B = D.T @ Z\n",
    "        B = B.T @ B\n",
    "        if isinstance(A, spmatrix) or isinstance(B, spmatrix):\n",
    "            D, W = eigsh(A, k=n_components, M=B)\n",
    "        else:\n",
    "            D, W = eigh(A, B)\n",
    "    elif method == \"type2\":\n",
    "        if isinstance(A, spmatrix):\n",
    "            D, W = eigsh(A, k=n_components)\n",
    "        else:\n",
    "            D, W = eigh(A)\n",
    "\n",
    "    D_exist = cast(ndarray, D)\n",
    "    ind = np.argsort(D_exist)[::-1]\n",
    "    D_exist, W = D_exist[ind], W[:, ind]\n",
    "    return D_exist[:n_components], W[:, :n_components]\n",
    "\n",
    "\n",
    "def _trca_kernel(X: ndarray):\n",
    "    \"\"\"TRCA.\n",
    "    X: (n_trials, n_channels, n_samples)\n",
    "    \"\"\"\n",
    "    X = np.reshape(X, (-1, *X.shape[-2:]))\n",
    "    M, C, N = X.shape\n",
    "    n_components = C\n",
    "    P = vstack([identity(N) for _ in range(M)])\n",
    "    P = P @ P.T\n",
    "    Z = np.hstack(X).T  # type: ignore\n",
    "    _, U = _ged_wong(Z, None, P, n_components=n_components)  # U for X\n",
    "    return U\n",
    "\n",
    "\n",
    "def _trca_feature(\n",
    "    X: ndarray,\n",
    "    templates: ndarray,\n",
    "    Us: ndarray,\n",
    "    n_components: int = 1,\n",
    "    ensemble: bool = True,\n",
    "):\n",
    "    rhos = []\n",
    "    if not ensemble:\n",
    "        for Xk, U in zip(templates, Us):\n",
    "            a = U[:, :n_components].T @ X\n",
    "            b = U[:, :n_components].T @ Xk\n",
    "            a = np.reshape(a, (-1))\n",
    "            b = np.reshape(b, (-1))\n",
    "            rhos.append(pearsonr(a, b)[0])\n",
    "    else:\n",
    "        U = Us[:, :, :n_components]\n",
    "        U = np.concatenate(U, axis=-1)\n",
    "        for Xk in templates:\n",
    "            a = U.T @ X\n",
    "            b = U.T @ Xk\n",
    "            a = np.reshape(a, (-1))\n",
    "            b = np.reshape(b, (-1))\n",
    "            rhos.append(pearsonr(a, b)[0])\n",
    "    return rhos\n",
    "\n",
    "\n",
    "class TRCA(BaseEstimator, TransformerMixin, ClassifierMixin):\n",
    "    def __init__(\n",
    "        self, n_components: int = 1, ensemble: bool = True, n_jobs: Optional[int] = None\n",
    "    ):\n",
    "        self.n_components = n_components\n",
    "        self.ensemble = ensemble\n",
    "        self.n_jobs = n_jobs\n",
    "\n",
    "    def fit(self, X: ndarray, y: ndarray, Yf: Optional[ndarray] = None):\n",
    "        self.classes_ = np.unique(y)\n",
    "        X = np.reshape(X, (-1, *X.shape[-2:]))\n",
    "        X = X - np.mean(X, axis=-1, keepdims=True)\n",
    "        self.templates_ = np.stack(\n",
    "            [np.mean(X[y == label], axis=0) for label in self.classes_]\n",
    "        )\n",
    "\n",
    "        self.Us_ = np.stack([_trca_kernel(X[y == label]) for label in self.classes_])\n",
    "        return self\n",
    "\n",
    "    def transform(self, X: ndarray):\n",
    "        X = np.reshape(X, (-1, *X.shape[-2:]))\n",
    "        X = X - np.mean(X, axis=-1, keepdims=True)\n",
    "        n_components = self.n_components\n",
    "        templates = self.templates_\n",
    "        Us = self.Us_\n",
    "        ensemble = self.ensemble\n",
    "        rhos = Parallel(n_jobs=self.n_jobs)(\n",
    "            delayed(\n",
    "                partial(\n",
    "                    _trca_feature, Us=Us, n_components=n_components, ensemble=ensemble\n",
    "                )\n",
    "            )(a, templates)\n",
    "            for a in X\n",
    "        )\n",
    "        rhos = np.stack(rhos)\n",
    "        return rhos\n",
    "\n",
    "    def predict(self, X: ndarray):\n",
    "        feat = self.transform(X)\n",
    "        labels = self.classes_[np.argmax(feat, axis=-1)]\n",
    "        return labels\n",
    "\n",
    "\n",
    "def generate_cca_references(\n",
    "    freqs,\n",
    "    srate,\n",
    "    T,\n",
    "    phases: Optional[Union[ndarray, int, float]] = None,\n",
    "    n_harmonics: int = 1,\n",
    "):\n",
    "    if isinstance(freqs, int) or isinstance(freqs, float):\n",
    "        freqs = [freqs]\n",
    "    freqs = np.array(freqs)[:, np.newaxis]\n",
    "    if phases is None:\n",
    "        phases = 0\n",
    "    if isinstance(phases, int) or isinstance(phases, float):\n",
    "        phases = np.array([phases])\n",
    "    phases = np.array(phases)[:, np.newaxis]\n",
    "    t = np.linspace(0, T, int(T * srate))\n",
    "\n",
    "    Yf = []\n",
    "    for i in range(n_harmonics):\n",
    "        Yf.append(\n",
    "            np.stack(\n",
    "                [\n",
    "                    np.sin(2 * np.pi * (i + 1) * freqs * t + np.pi * phases),\n",
    "                    np.cos(2 * np.pi * (i + 1) * freqs * t + np.pi * phases),\n",
    "                ],\n",
    "                axis=1,\n",
    "            )\n",
    "        )\n",
    "    Yf = np.concatenate(Yf, axis=1)\n",
    "    return Yf"
   ]
  },
  {
   "cell_type": "code",
   "execution_count": 106,
   "metadata": {},
   "outputs": [],
   "source": [
    "list_freqs = [8, 9, 10, 11, 12, 13, 14, 15, 8.2, 9.2, 10.2, 11.2, 12.2, 13.2, 14.2, 15.2, 8.4, 9.4, 10.4, 11.4, 12.4, 13.4, 14.4, 15.4, 8.6, 9.6, 10.6, 11.6, 12.6, 13.6, 14.6, 15.6, 8.8, 9.8, 10.8, 11.8, 12.8, 13.8, 14.8, 15.8]\n",
    "list_phases = [0, 1.75, 1.50, 1.25, 1.0, 0.75, 0.50, 0.25, 0.35, 0.10, 1.85, 1.60, 1.35, 1.10, 0.85, 0.60, 0.70, 0.45, 0.20, 1.95, 1.70, 1.45, 1.20, 0.95, 1.05, 0.80, 0.55, 0.30, 0.05, 1.80, 1.55, 1.30, 1.40, 1.15, 0.90, 0.65, 0.40, 0.15, 1.90, 1.65]\n",
    "char_map = {\n",
    "  8: 'A',\n",
    "  9: 'B',\n",
    "  10: 'C',\n",
    "  11: 'D',\n",
    "  12: 'E',\n",
    "  13: 'F',\n",
    "  14: 'G',\n",
    "  15: 'H',\n",
    "  8.2: 'I',\n",
    "  9.2: 'J',\n",
    "  10.2: 'K',\n",
    "  11.2: 'L',\n",
    "  12.2: 'M',\n",
    "  13.2: 'N',\n",
    "  14.2: 'O',\n",
    "  15.2: 'P',\n",
    "  8.4: 'Q',\n",
    "  9.4: 'R',\n",
    "  10.4: 'S',\n",
    "  11.4: 'T',\n",
    "  12.4: 'U',\n",
    "  13.4: 'V',\n",
    "  14.4: 'W',\n",
    "  15.4: 'X',\n",
    "  8.6: 'Y',\n",
    "  9.6: 'Z',\n",
    "  10.6: '0',\n",
    "  11.6: '1',\n",
    "  12.6: '2',\n",
    "  13.6: '3',\n",
    "  14.6: '4',\n",
    "  15.6: '5',\n",
    "  8.8: '6',\n",
    "  9.8: '7',\n",
    "  10.8: '8',\n",
    "  11.8: '9',\n",
    "  12.8: ' ',\n",
    "  13.8: ',',\n",
    "  14.8: '.',\n",
    "  15.8: '<-'\n",
    "}"
   ]
  },
  {
   "cell_type": "code",
   "execution_count": 107,
   "metadata": {},
   "outputs": [
    {
     "name": "stdout",
     "output_type": "stream",
     "text": [
      "Opening raw data file sunsun.fif...\n",
      "    Range : 0 ... 102805 =      0.000 ...   411.220 secs\n",
      "Ready.\n",
      "Creating RawArray with float64 data, n_channels=9, n_times=100556\n",
      "    Range : 0 ... 100555 =      0.000 ...   402.220 secs\n",
      "Ready.\n",
      "Setting up band-stop filter\n",
      "\n",
      "FIR filter parameters\n",
      "---------------------\n",
      "Designing a one-pass, zero-phase, non-causal bandstop filter:\n",
      "- Windowed time-domain design (firwin) method\n",
      "- Hamming window with 0.0194 passband ripple and 53 dB stopband attenuation\n",
      "- Lower transition bandwidth: 0.50 Hz\n",
      "- Upper transition bandwidth: 0.50 Hz\n",
      "- Filter length: 1651 samples (6.604 sec)\n",
      "\n",
      "220 events found\n",
      "Event IDs: [1]\n",
      "Not setting metadata\n",
      "220 matching events found\n",
      "No baseline correction applied\n",
      "0 projection items activated\n",
      "Using data from preloaded Raw for 220 events and 676 original time points ...\n",
      "1 bad epochs dropped\n",
      "Effective window size : 1.024 (s)\n",
      "Opening raw data file sunsun_v2.fif...\n",
      "    Range : 0 ... 103950 =      0.000 ...   415.800 secs\n"
     ]
    },
    {
     "name": "stderr",
     "output_type": "stream",
     "text": [
      "C:\\Users\\bci\\AppData\\Local\\Temp\\ipykernel_18200\\223189090.py:4: RuntimeWarning: This filename (sunsun.fif) does not conform to MNE naming conventions. All raw files should end with raw.fif, raw_sss.fif, raw_tsss.fif, _meg.fif, _eeg.fif, _ieeg.fif, raw.fif.gz, raw_sss.fif.gz, raw_tsss.fif.gz, _meg.fif.gz, _eeg.fif.gz or _ieeg.fif.gz\n",
      "  raw =  mne.io.read_raw_fif(fname)\n",
      "[Parallel(n_jobs=1)]: Using backend SequentialBackend with 1 concurrent workers.\n",
      "[Parallel(n_jobs=1)]: Done   1 out of   1 | elapsed:    0.0s remaining:    0.0s\n",
      "[Parallel(n_jobs=1)]: Done   2 out of   2 | elapsed:    0.0s remaining:    0.0s\n",
      "[Parallel(n_jobs=1)]: Done   3 out of   3 | elapsed:    0.0s remaining:    0.0s\n",
      "[Parallel(n_jobs=1)]: Done   4 out of   4 | elapsed:    0.0s remaining:    0.0s\n",
      "[Parallel(n_jobs=1)]: Done   8 out of   8 | elapsed:    0.0s finished\n",
      "c:\\Users\\bci\\.virtualenvs\\hybrid-ssvep-p300-speller-ZL_XZSnA\\lib\\site-packages\\mne\\viz\\utils.py:137: UserWarning: Matplotlib is currently using module://matplotlib_inline.backend_inline, which is a non-GUI backend, so cannot show the figure.\n",
      "  (fig or plt).show(**kwargs)\n",
      "C:\\Users\\bci\\AppData\\Local\\Temp\\ipykernel_18200\\223189090.py:14: RuntimeWarning: This filename (sunsun_v2.fif) does not conform to MNE naming conventions. All raw files should end with raw.fif, raw_sss.fif, raw_tsss.fif, _meg.fif, _eeg.fif, _ieeg.fif, raw.fif.gz, raw_sss.fif.gz, raw_tsss.fif.gz, _meg.fif.gz, _eeg.fif.gz or _ieeg.fif.gz\n",
      "  raw_test =  mne.io.read_raw_fif(fname_test)\n"
     ]
    },
    {
     "name": "stdout",
     "output_type": "stream",
     "text": [
      "Ready.\n",
      "Creating RawArray with float64 data, n_channels=9, n_times=101701\n",
      "    Range : 0 ... 101700 =      0.000 ...   406.800 secs\n",
      "Ready.\n",
      "Setting up band-stop filter\n",
      "\n",
      "FIR filter parameters\n",
      "---------------------\n",
      "Designing a one-pass, zero-phase, non-causal bandstop filter:\n",
      "- Windowed time-domain design (firwin) method\n",
      "- Hamming window with 0.0194 passband ripple and 53 dB stopband attenuation\n",
      "- Lower transition bandwidth: 0.50 Hz\n",
      "- Upper transition bandwidth: 0.50 Hz\n",
      "- Filter length: 1651 samples (6.604 sec)\n",
      "\n",
      "223 events found\n",
      "Event IDs: [1]\n",
      "Not setting metadata\n",
      "223 matching events found\n",
      "No baseline correction applied\n",
      "0 projection items activated\n",
      "Using data from preloaded Raw for 223 events and 676 original time points ...\n",
      "1 bad epochs dropped\n",
      "Effective window size : 1.024 (s)\n"
     ]
    },
    {
     "name": "stderr",
     "output_type": "stream",
     "text": [
      "[Parallel(n_jobs=1)]: Using backend SequentialBackend with 1 concurrent workers.\n",
      "[Parallel(n_jobs=1)]: Done   1 out of   1 | elapsed:    0.0s remaining:    0.0s\n",
      "[Parallel(n_jobs=1)]: Done   2 out of   2 | elapsed:    0.0s remaining:    0.0s\n",
      "[Parallel(n_jobs=1)]: Done   3 out of   3 | elapsed:    0.0s remaining:    0.0s\n",
      "[Parallel(n_jobs=1)]: Done   4 out of   4 | elapsed:    0.0s remaining:    0.0s\n",
      "[Parallel(n_jobs=1)]: Done   8 out of   8 | elapsed:    0.0s finished\n",
      "c:\\Users\\bci\\.virtualenvs\\hybrid-ssvep-p300-speller-ZL_XZSnA\\lib\\site-packages\\mne\\viz\\utils.py:137: UserWarning: Matplotlib is currently using module://matplotlib_inline.backend_inline, which is a non-GUI backend, so cannot show the figure.\n",
      "  (fig or plt).show(**kwargs)\n"
     ]
    },
    {
     "data": {
      "image/png": "[encoded data removed]",
      "text/plain": [
       "<MNELineFigure size 1000x350 with 2 Axes>"
      ]
     },
     "execution_count": 107,
     "metadata": {},
     "output_type": "execute_result"
    }
   ],
   "source": [
    "import mne\n",
    "\n",
    "fname = \"sunsun.fif\"\n",
    "raw =  mne.io.read_raw_fif(fname)\n",
    "new_data = raw.get_data()[:,7*250:-2*250]\n",
    "raw = mne.io.RawArray(new_data, raw.info)\n",
    "raw.notch_filter([50,100])\n",
    "events = mne.find_events(raw)\n",
    "epochs = mne.Epochs(raw=raw,events=events, baseline=None, tmin=0, tmax=2.7, reject=None, reject_by_annotation=False)\n",
    "data = epochs.get_data()\n",
    "raw.compute_psd().plot()\n",
    "\n",
    "fname_test = \"sunsun_v2.fif\"\n",
    "raw_test =  mne.io.read_raw_fif(fname_test)\n",
    "new_data = raw_test.get_data()[:,7*250:-2*250]\n",
    "raw_test = mne.io.RawArray(new_data, raw.info)\n",
    "raw_test.notch_filter([50,100])\n",
    "events_test = mne.find_events(raw_test)\n",
    "epochs_test = mne.Epochs(raw=raw_test,events=events_test, baseline=None, tmin=0, tmax=2.7, reject=None, reject_by_annotation=False)\n",
    "data_test = epochs_test.get_data()\n",
    "raw_test.compute_psd().plot()"
   ]
  },
  {
   "cell_type": "code",
   "execution_count": 108,
   "metadata": {},
   "outputs": [],
   "source": [
    "amp = 1e-5\n",
    "duration = int(250 * 0.5)\n",
    "offset_1 = 150\n",
    "offset_2 = 150 + duration"
   ]
  },
  {
   "cell_type": "code",
   "execution_count": 109,
   "metadata": {},
   "outputs": [
    {
     "name": "stdout",
     "output_type": "stream",
     "text": [
      "675\n",
      "(200,)\n"
     ]
    }
   ],
   "source": [
    "#Preparing data for the ensemble TRCA\n",
    "\n",
    "samples = data[0][0].size - 1\n",
    "print(samples)\n",
    "eeg_ch = 8\n",
    "# X = []\n",
    "# f = 8\n",
    "t = np.arange(0,1,1/samples)\n",
    "# p = np.pi * 0\n",
    "X_train = []\n",
    "y_train = []\n",
    "\n",
    "for index, (f , p) in enumerate(zip(list_freqs * 5, list_phases * 5)):\n",
    "    p = np.pi * p\n",
    "    X = []\n",
    "    for ch_idx in range(eeg_ch):\n",
    "        s = data[index][ch_idx][:-1]\n",
    "        signal = s \n",
    "        for N in range(1,5):\n",
    "            ssvep = ((amp * np.sin((2 * np.pi * N * f * t) + p))) * 1/N\n",
    "            # signal[150:150+250] = signal[150:150+250] + ssvep[:250]\n",
    "            signal[offset_1: offset_2] = signal[offset_1: offset_2] + ssvep[:duration]\n",
    "        X.append(signal.reshape(1,-1))\n",
    "\n",
    "    X = np.vstack(X)\n",
    "    # plt.plot(X.T)\n",
    "    # plt.show()  \n",
    "    X_train.append(X)\n",
    "    y_train.append(char_map[f])\n",
    "\n",
    "X_train = np.dstack(X_train)\n",
    "X_train = np.swapaxes(X_train, 0, 2)\n",
    "X_train = np.swapaxes(X_train, 1, 2)\n",
    "y_train = np.array(y_train)\n",
    "print(y_train.shape)"
   ]
  },
  {
   "cell_type": "code",
   "execution_count": 110,
   "metadata": {},
   "outputs": [
    {
     "data": {
      "text/plain": [
       "(200, 8, 675)"
      ]
     },
     "execution_count": 110,
     "metadata": {},
     "output_type": "execute_result"
    }
   ],
   "source": [
    "X_train.shape"
   ]
  },
  {
   "cell_type": "code",
   "execution_count": 111,
   "metadata": {},
   "outputs": [
    {
     "data": {
      "text/plain": [
       "(200,)"
      ]
     },
     "execution_count": 111,
     "metadata": {},
     "output_type": "execute_result"
    }
   ],
   "source": [
    "y_train.shape"
   ]
  },
  {
   "cell_type": "code",
   "execution_count": 112,
   "metadata": {},
   "outputs": [
    {
     "name": "stdout",
     "output_type": "stream",
     "text": [
      "675\n",
      "(200,)\n"
     ]
    }
   ],
   "source": [
    "samples = data_test[0][0].size - 1\n",
    "print(samples)\n",
    "eeg_ch = 8\n",
    "# X = []\n",
    "# f = 8\n",
    "t = np.arange(0,1,1/samples)\n",
    "# p = np.pi * 0\n",
    "X_test = []\n",
    "y_test = []\n",
    "\n",
    "for index, (f , p) in enumerate(zip(list_freqs * 5, list_phases * 5)):\n",
    "    p = np.pi * p\n",
    "    X = []\n",
    "    for ch_idx in range(eeg_ch):\n",
    "        s = data_test[index][ch_idx][:-1]\n",
    "        signal = s \n",
    "        for N in range(1,5):\n",
    "            ssvep = ((amp * np.sin((2 * np.pi * N * f * t) + p))) * 1/N\n",
    "            signal[offset_1: offset_2] = signal[offset_1: offset_2] + ssvep[:duration]\n",
    "        X.append(signal.reshape(1,-1))\n",
    "\n",
    "    X = np.vstack(X)\n",
    "    # plt.plot(X.T)\n",
    "    # plt.show()  \n",
    "    X_test.append(X)\n",
    "    y_test.append(char_map[f])\n",
    "\n",
    "X_test = np.dstack(X_test)\n",
    "X_test = np.swapaxes(X_test, 0, 2)\n",
    "X_test = np.swapaxes(X_test, 1, 2)\n",
    "y_test = np.array(y_test)\n",
    "print(y_test.shape)"
   ]
  },
  {
   "cell_type": "code",
   "execution_count": 113,
   "metadata": {},
   "outputs": [
    {
     "name": "stdout",
     "output_type": "stream",
     "text": [
      "0.915\n"
     ]
    }
   ],
   "source": [
    "from sklearn.utils import shuffle\n",
    "\n",
    "Yf = generate_cca_references(freqs=list_freqs, srate=250, T=2.7, phases=list_phases, n_harmonics=5)\n",
    "# for n in range(1,10):\n",
    "estimator=TRCA(n_components = 1, n_jobs=-1)\n",
    "# X_train, X_test, y_train, y_test = train_test_split(X_complete, y_complete, test_size=0.3)\n",
    "model = estimator.fit(X_train, y_train, Yf)\n",
    "X_test, y_test = shuffle(X_test, y_test)\n",
    "preds = model.predict(X_test)\n",
    "acc = np.mean(preds==y_test)\n",
    "# print(preds)\n",
    "# print(y_test)\n",
    "print(acc)"
   ]
  },
  {
   "cell_type": "code",
   "execution_count": 114,
   "metadata": {},
   "outputs": [],
   "source": [
    "import pickle\n",
    "\n",
    "# save the model to disk\n",
    "filename = 'finalized_model.sav'\n",
    "pickle.dump(model, open(filename, 'wb'))"
   ]
  },
  {
   "cell_type": "code",
   "execution_count": 115,
   "metadata": {},
   "outputs": [
    {
     "name": "stdout",
     "output_type": "stream",
     "text": [
      "0.915\n"
     ]
    }
   ],
   "source": [
    "loaded_model = pickle.load(open(filename, 'rb'))\n",
    "result = loaded_model.score(X_test, y_test)\n",
    "print(result)"
   ]
  }
 ],
 "metadata": {
  "kernelspec": {
   "display_name": "hybrid-ssvep-p300-speller-ZL_XZSnA",
   "language": "python",
   "name": "python3"
  },
  "language_info": {
   "codemirror_mode": {
    "name": "ipython",
    "version": 3
   },
   "file_extension": ".py",
   "mimetype": "text/x-python",
   "name": "python",
   "nbconvert_exporter": "python",
   "pygments_lexer": "ipython3",
   "version": "3.8.10"
  },
  "orig_nbformat": 4,
  "vscode": {
   "interpreter": {
    "hash": "00051bd54bd81d25d26bce35c1b532f210659eeff443feda6c334d3d89679700"
   }
  }
 },
 "nbformat": 4,
 "nbformat_minor": 2
}
