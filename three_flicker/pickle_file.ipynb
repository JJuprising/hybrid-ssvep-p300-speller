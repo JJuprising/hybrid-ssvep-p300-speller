{
 "cells": [
  {
   "cell_type": "code",
   "execution_count": 12,
   "metadata": {},
   "outputs": [],
   "source": [
    "import pickle\n",
    "import mne\n",
    "from mne import create_info\n",
    "\n",
    "filename = r'E:\\Thesis\\HybridSpeller\\three_flicker\\record\\sunsun_20230419\\sunsun_20230419.pickle'\n",
    "\n",
    "with open(filename, 'rb') as handle:\n",
    "    data = pickle.load(handle)"
   ]
  },
  {
   "cell_type": "code",
   "execution_count": 13,
   "metadata": {},
   "outputs": [
    {
     "data": {
      "text/plain": [
       "(32, 28507)"
      ]
     },
     "execution_count": 13,
     "metadata": {},
     "output_type": "execute_result"
    }
   ],
   "source": [
    "data.shape"
   ]
  },
  {
   "cell_type": "code",
   "execution_count": 14,
   "metadata": {},
   "outputs": [],
   "source": [
    "_CHANNELS = ['FZ', 'C3', 'CZ', 'C4', 'PZ', 'PO7', 'OZ', 'PO8']\n",
    "ch_names = [ch_name.upper() for ch_name in _CHANNELS]\n",
    "ch_names = ch_names + ['STIM']\n",
    "ch_types = [\"eeg\"] * 9\n",
    "ch_types[-1] = \"stim\"\n",
    "\n",
    "info = create_info(ch_names=ch_names, ch_types=ch_types, sfreq=250)"
   ]
  },
  {
   "cell_type": "code",
   "execution_count": 15,
   "metadata": {},
   "outputs": [
    {
     "ename": "ValueError",
     "evalue": "len(data) (32) does not match len(info[\"ch_names\"]) (9)",
     "output_type": "error",
     "traceback": [
      "\u001b[1;31m---------------------------------------------------------------------------\u001b[0m",
      "\u001b[1;31mValueError\u001b[0m                                Traceback (most recent call last)",
      "Cell \u001b[1;32mIn[15], line 1\u001b[0m\n\u001b[1;32m----> 1\u001b[0m raw \u001b[39m=\u001b[39m mne\u001b[39m.\u001b[39;49mio\u001b[39m.\u001b[39;49mRawArray(data, info\u001b[39m=\u001b[39;49minfo)\n\u001b[0;32m      2\u001b[0m raw\u001b[39m.\u001b[39mcompute_psd()\u001b[39m.\u001b[39mplot()\n",
      "File \u001b[1;32m<decorator-gen-261>:12\u001b[0m, in \u001b[0;36m__init__\u001b[1;34m(self, data, info, first_samp, copy, verbose)\u001b[0m\n",
      "File \u001b[1;32mc:\\Users\\Sunsun\\.virtualenvs\\HybridSpeller-q8UBACmb\\lib\\site-packages\\mne\\io\\array\\array.py:65\u001b[0m, in \u001b[0;36mRawArray.__init__\u001b[1;34m(self, data, info, first_samp, copy, verbose)\u001b[0m\n\u001b[0;32m     62\u001b[0m     \u001b[39mraise\u001b[39;00m \u001b[39mValueError\u001b[39;00m(\u001b[39m'\u001b[39m\u001b[39mData must be a 2D array of shape (n_channels, \u001b[39m\u001b[39m'\u001b[39m\n\u001b[0;32m     63\u001b[0m                      \u001b[39m'\u001b[39m\u001b[39mn_samples), got shape \u001b[39m\u001b[39m%s\u001b[39;00m\u001b[39m'\u001b[39m \u001b[39m%\u001b[39m (data\u001b[39m.\u001b[39mshape,))\n\u001b[0;32m     64\u001b[0m \u001b[39mif\u001b[39;00m \u001b[39mlen\u001b[39m(data) \u001b[39m!=\u001b[39m \u001b[39mlen\u001b[39m(info[\u001b[39m'\u001b[39m\u001b[39mch_names\u001b[39m\u001b[39m'\u001b[39m]):\n\u001b[1;32m---> 65\u001b[0m     \u001b[39mraise\u001b[39;00m \u001b[39mValueError\u001b[39;00m(\u001b[39m'\u001b[39m\u001b[39mlen(data) (\u001b[39m\u001b[39m%s\u001b[39;00m\u001b[39m) does not match \u001b[39m\u001b[39m'\u001b[39m\n\u001b[0;32m     66\u001b[0m                      \u001b[39m'\u001b[39m\u001b[39mlen(info[\u001b[39m\u001b[39m\"\u001b[39m\u001b[39mch_names\u001b[39m\u001b[39m\"\u001b[39m\u001b[39m]) (\u001b[39m\u001b[39m%s\u001b[39;00m\u001b[39m)\u001b[39m\u001b[39m'\u001b[39m\n\u001b[0;32m     67\u001b[0m                      \u001b[39m%\u001b[39m (\u001b[39mlen\u001b[39m(data), \u001b[39mlen\u001b[39m(info[\u001b[39m'\u001b[39m\u001b[39mch_names\u001b[39m\u001b[39m'\u001b[39m])))\n\u001b[0;32m     68\u001b[0m \u001b[39massert\u001b[39;00m \u001b[39mlen\u001b[39m(info[\u001b[39m'\u001b[39m\u001b[39mch_names\u001b[39m\u001b[39m'\u001b[39m]) \u001b[39m==\u001b[39m info[\u001b[39m'\u001b[39m\u001b[39mnchan\u001b[39m\u001b[39m'\u001b[39m]\n\u001b[0;32m     69\u001b[0m \u001b[39mif\u001b[39;00m copy \u001b[39min\u001b[39;00m (\u001b[39m'\u001b[39m\u001b[39mauto\u001b[39m\u001b[39m'\u001b[39m, \u001b[39m'\u001b[39m\u001b[39minfo\u001b[39m\u001b[39m'\u001b[39m, \u001b[39m'\u001b[39m\u001b[39mboth\u001b[39m\u001b[39m'\u001b[39m):\n",
      "\u001b[1;31mValueError\u001b[0m: len(data) (32) does not match len(info[\"ch_names\"]) (9)"
     ]
    }
   ],
   "source": [
    "raw = mne.io.RawArray(data, info=info)\n",
    "raw.compute_psd().plot()"
   ]
  },
  {
   "cell_type": "code",
   "execution_count": null,
   "metadata": {},
   "outputs": [],
   "source": []
  }
 ],
 "metadata": {
  "kernelspec": {
   "display_name": "HybridSpeller-q8UBACmb",
   "language": "python",
   "name": "python3"
  },
  "language_info": {
   "codemirror_mode": {
    "name": "ipython",
    "version": 3
   },
   "file_extension": ".py",
   "mimetype": "text/x-python",
   "name": "python",
   "nbconvert_exporter": "python",
   "pygments_lexer": "ipython3",
   "version": "3.8.3"
  },
  "orig_nbformat": 4
 },
 "nbformat": 4,
 "nbformat_minor": 2
}
