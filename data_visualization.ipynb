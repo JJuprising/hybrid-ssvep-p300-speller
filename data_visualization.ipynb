{
 "cells": [
  {
   "cell_type": "code",
   "execution_count": 19,
   "metadata": {},
   "outputs": [
    {
     "name": "stdout",
     "output_type": "stream",
     "text": [
      "Opening raw data file record\\sunsun\\sunsun0.fif...\n",
      "    Range : 0 ... 29618 =      0.000 ...   118.472 secs\n",
      "Ready.\n"
     ]
    },
    {
     "name": "stderr",
     "output_type": "stream",
     "text": [
      "C:\\Users\\Sunsun\\AppData\\Local\\Temp\\ipykernel_22172\\2951844426.py:4: RuntimeWarning: This filename (record\\sunsun\\sunsun0.fif) does not conform to MNE naming conventions. All raw files should end with raw.fif, raw_sss.fif, raw_tsss.fif, _meg.fif, _eeg.fif, _ieeg.fif, raw.fif.gz, raw_sss.fif.gz, raw_tsss.fif.gz, _meg.fif.gz, _eeg.fif.gz or _ieeg.fif.gz\n",
      "  raw = mne.io.Raw(fname, allow_maxshield=False, preload=False, on_split_missing='raise', verbose=None)\n"
     ]
    }
   ],
   "source": [
    "import mne\n",
    "\n",
    "fname = \"record\\sunsun\\sunsun0.fif\"\n",
    "raw = mne.io.Raw(fname, allow_maxshield=False, preload=False, on_split_missing='raise', verbose=None)"
   ]
  },
  {
   "cell_type": "code",
   "execution_count": 28,
   "metadata": {},
   "outputs": [
    {
     "name": "stdout",
     "output_type": "stream",
     "text": [
      "29215\n"
     ]
    }
   ],
   "source": [
    "import pandas as pd\n",
    "import numpy as np\n",
    "\n",
    "df = raw.to_data_frame()\n",
    "print(len(df.loc[df['STIM MARKERS'] == 0.0]))"
   ]
  },
  {
   "cell_type": "code",
   "execution_count": 29,
   "metadata": {},
   "outputs": [
    {
     "data": {
      "text/html": [
       "<div>\n",
       "<style scoped>\n",
       "    .dataframe tbody tr th:only-of-type {\n",
       "        vertical-align: middle;\n",
       "    }\n",
       "\n",
       "    .dataframe tbody tr th {\n",
       "        vertical-align: top;\n",
       "    }\n",
       "\n",
       "    .dataframe thead th {\n",
       "        text-align: right;\n",
       "    }\n",
       "</style>\n",
       "<table border=\"1\" class=\"dataframe\">\n",
       "  <thead>\n",
       "    <tr style=\"text-align: right;\">\n",
       "      <th></th>\n",
       "      <th>time</th>\n",
       "      <th>Fz</th>\n",
       "      <th>C3</th>\n",
       "      <th>Cz</th>\n",
       "      <th>C4</th>\n",
       "      <th>Pz</th>\n",
       "      <th>PO7</th>\n",
       "      <th>Oz</th>\n",
       "      <th>PO8</th>\n",
       "      <th>F5</th>\n",
       "      <th>F7</th>\n",
       "      <th>F3</th>\n",
       "      <th>F1</th>\n",
       "      <th>F2</th>\n",
       "      <th>F4</th>\n",
       "      <th>F6</th>\n",
       "      <th>F8</th>\n",
       "      <th>STIM MARKERS</th>\n",
       "    </tr>\n",
       "  </thead>\n",
       "  <tbody>\n",
       "    <tr>\n",
       "      <th>0</th>\n",
       "      <td>0.000</td>\n",
       "      <td>2.680065e-15</td>\n",
       "      <td>1.694066e-15</td>\n",
       "      <td>1.185846e-14</td>\n",
       "      <td>1.334077e-14</td>\n",
       "      <td>1.789357e-14</td>\n",
       "      <td>2.392868e-14</td>\n",
       "      <td>4.912791e-14</td>\n",
       "      <td>7.962110e-14</td>\n",
       "      <td>6.988022e-14</td>\n",
       "      <td>6.606857e-14</td>\n",
       "      <td>8.893846e-14</td>\n",
       "      <td>1.050321e-13</td>\n",
       "      <td>1.329842e-13</td>\n",
       "      <td>6.098637e-14</td>\n",
       "      <td>1.016440e-13</td>\n",
       "      <td>3.388132e-14</td>\n",
       "      <td>0.0</td>\n",
       "    </tr>\n",
       "    <tr>\n",
       "      <th>1</th>\n",
       "      <td>0.004</td>\n",
       "      <td>6.591544e-02</td>\n",
       "      <td>6.637152e+00</td>\n",
       "      <td>4.778673e+00</td>\n",
       "      <td>-9.037178e+00</td>\n",
       "      <td>-7.426498e+00</td>\n",
       "      <td>-1.432625e+01</td>\n",
       "      <td>-3.247692e+01</td>\n",
       "      <td>-4.585408e+01</td>\n",
       "      <td>-5.822416e+01</td>\n",
       "      <td>-4.518488e+01</td>\n",
       "      <td>-4.893991e+01</td>\n",
       "      <td>-5.282151e+01</td>\n",
       "      <td>-7.714843e+01</td>\n",
       "      <td>-6.367898e+01</td>\n",
       "      <td>-7.225577e+01</td>\n",
       "      <td>-4.687521e+01</td>\n",
       "      <td>0.0</td>\n",
       "    </tr>\n",
       "    <tr>\n",
       "      <th>2</th>\n",
       "      <td>0.008</td>\n",
       "      <td>1.292420e-01</td>\n",
       "      <td>1.279100e+01</td>\n",
       "      <td>8.510937e+00</td>\n",
       "      <td>-1.721432e+01</td>\n",
       "      <td>-1.418702e+01</td>\n",
       "      <td>-2.736387e+01</td>\n",
       "      <td>-6.218448e+01</td>\n",
       "      <td>-8.752762e+01</td>\n",
       "      <td>-1.115118e+02</td>\n",
       "      <td>-8.655297e+01</td>\n",
       "      <td>-9.420906e+01</td>\n",
       "      <td>-1.016134e+02</td>\n",
       "      <td>-1.483480e+02</td>\n",
       "      <td>-1.223057e+02</td>\n",
       "      <td>-1.380519e+02</td>\n",
       "      <td>-8.917543e+01</td>\n",
       "      <td>0.0</td>\n",
       "    </tr>\n",
       "    <tr>\n",
       "      <th>3</th>\n",
       "      <td>0.012</td>\n",
       "      <td>1.873582e-01</td>\n",
       "      <td>1.801344e+01</td>\n",
       "      <td>1.033093e+01</td>\n",
       "      <td>-2.376293e+01</td>\n",
       "      <td>-1.969675e+01</td>\n",
       "      <td>-3.796019e+01</td>\n",
       "      <td>-8.661812e+01</td>\n",
       "      <td>-1.212660e+02</td>\n",
       "      <td>-1.554163e+02</td>\n",
       "      <td>-1.206605e+02</td>\n",
       "      <td>-1.324644e+02</td>\n",
       "      <td>-1.427900e+02</td>\n",
       "      <td>-2.082194e+02</td>\n",
       "      <td>-1.710392e+02</td>\n",
       "      <td>-1.915008e+02</td>\n",
       "      <td>-1.226456e+02</td>\n",
       "      <td>0.0</td>\n",
       "    </tr>\n",
       "    <tr>\n",
       "      <th>4</th>\n",
       "      <td>0.016</td>\n",
       "      <td>2.376395e-01</td>\n",
       "      <td>2.192599e+01</td>\n",
       "      <td>9.702923e+00</td>\n",
       "      <td>-2.809622e+01</td>\n",
       "      <td>-2.350581e+01</td>\n",
       "      <td>-4.521381e+01</td>\n",
       "      <td>-1.038045e+02</td>\n",
       "      <td>-1.441460e+02</td>\n",
       "      <td>-1.864354e+02</td>\n",
       "      <td>-1.448629e+02</td>\n",
       "      <td>-1.610658e+02</td>\n",
       "      <td>-1.734963e+02</td>\n",
       "      <td>-2.523068e+02</td>\n",
       "      <td>-2.060616e+02</td>\n",
       "      <td>-2.281686e+02</td>\n",
       "      <td>-1.442549e+02</td>\n",
       "      <td>0.0</td>\n",
       "    </tr>\n",
       "  </tbody>\n",
       "</table>\n",
       "</div>"
      ],
      "text/plain": [
       "    time            Fz            C3            Cz            C4  \\\n",
       "0  0.000  2.680065e-15  1.694066e-15  1.185846e-14  1.334077e-14   \n",
       "1  0.004  6.591544e-02  6.637152e+00  4.778673e+00 -9.037178e+00   \n",
       "2  0.008  1.292420e-01  1.279100e+01  8.510937e+00 -1.721432e+01   \n",
       "3  0.012  1.873582e-01  1.801344e+01  1.033093e+01 -2.376293e+01   \n",
       "4  0.016  2.376395e-01  2.192599e+01  9.702923e+00 -2.809622e+01   \n",
       "\n",
       "             Pz           PO7            Oz           PO8            F5  \\\n",
       "0  1.789357e-14  2.392868e-14  4.912791e-14  7.962110e-14  6.988022e-14   \n",
       "1 -7.426498e+00 -1.432625e+01 -3.247692e+01 -4.585408e+01 -5.822416e+01   \n",
       "2 -1.418702e+01 -2.736387e+01 -6.218448e+01 -8.752762e+01 -1.115118e+02   \n",
       "3 -1.969675e+01 -3.796019e+01 -8.661812e+01 -1.212660e+02 -1.554163e+02   \n",
       "4 -2.350581e+01 -4.521381e+01 -1.038045e+02 -1.441460e+02 -1.864354e+02   \n",
       "\n",
       "             F7            F3            F1            F2            F4  \\\n",
       "0  6.606857e-14  8.893846e-14  1.050321e-13  1.329842e-13  6.098637e-14   \n",
       "1 -4.518488e+01 -4.893991e+01 -5.282151e+01 -7.714843e+01 -6.367898e+01   \n",
       "2 -8.655297e+01 -9.420906e+01 -1.016134e+02 -1.483480e+02 -1.223057e+02   \n",
       "3 -1.206605e+02 -1.324644e+02 -1.427900e+02 -2.082194e+02 -1.710392e+02   \n",
       "4 -1.448629e+02 -1.610658e+02 -1.734963e+02 -2.523068e+02 -2.060616e+02   \n",
       "\n",
       "             F6            F8  STIM MARKERS  \n",
       "0  1.016440e-13  3.388132e-14           0.0  \n",
       "1 -7.225577e+01 -4.687521e+01           0.0  \n",
       "2 -1.380519e+02 -8.917543e+01           0.0  \n",
       "3 -1.915008e+02 -1.226456e+02           0.0  \n",
       "4 -2.281686e+02 -1.442549e+02           0.0  "
      ]
     },
     "execution_count": 29,
     "metadata": {},
     "output_type": "execute_result"
    }
   ],
   "source": [
    "df.head()"
   ]
  }
 ],
 "metadata": {
  "kernelspec": {
   "display_name": "hybridspeller",
   "language": "python",
   "name": "python3"
  },
  "language_info": {
   "codemirror_mode": {
    "name": "ipython",
    "version": 3
   },
   "file_extension": ".py",
   "mimetype": "text/x-python",
   "name": "python",
   "nbconvert_exporter": "python",
   "pygments_lexer": "ipython3",
   "version": "3.8.3 (tags/v3.8.3:6f8c832, May 13 2020, 22:37:02) [MSC v.1924 64 bit (AMD64)]"
  },
  "orig_nbformat": 4,
  "vscode": {
   "interpreter": {
    "hash": "a29298365c927d10f6a8fb8dccd56dd4f3ea8996733bb45c8ce49fc9b151e300"
   }
  }
 },
 "nbformat": 4,
 "nbformat_minor": 2
}
